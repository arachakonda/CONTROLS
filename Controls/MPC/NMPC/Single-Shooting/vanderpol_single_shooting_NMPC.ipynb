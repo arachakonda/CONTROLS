{
 "cells": [
  {
   "cell_type": "code",
   "execution_count": 1,
   "metadata": {},
   "outputs": [],
   "source": [
    "from time import time\n",
    "import casadi as ca\n",
    "import numpy as np\n",
    "import matplotlib.pyplot as plt"
   ]
  },
  {
   "cell_type": "code",
   "execution_count": 2,
   "metadata": {},
   "outputs": [
    {
     "name": "stderr",
     "output_type": "stream",
     "text": [
      "CasADi - 2023-09-25 00:04:03 WARNING(\"The options 't0', 'tf', 'grid' and 'output_t0' have been deprecated.\n",
      "The same functionality is provided by providing additional input arguments to the 'integrator' function, in particular:\n",
      " * Call integrator(..., t0, tf, options) for a single output time, or\n",
      " * Call integrator(..., t0, grid, options) for multiple grid points.\n",
      "The legacy 'output_t0' option can be emulated by including or excluding 't0' in 'grid'.\n",
      "Backwards compatibility is provided in this release only.\") [.../casadi/core/integrator.cpp:515]\n"
     ]
    }
   ],
   "source": [
    "#define the states\n",
    "x1 = ca.SX.sym('x1')\n",
    "x2 = ca.SX.sym('x2')\n",
    "x = ca.vertcat(x1, x2)\n",
    "\n",
    "#define th controls\n",
    "u = ca.SX.sym('u')\n",
    "\n",
    "# Van der Pol oscillator system (nonlinear ODE)\n",
    "ode = ca.vertcat(x2, (1-x1**2)*x2 - x1 + u)\n",
    "\n",
    "# ODE right-hand side function\n",
    "f = ca.Function('f', [x, u], [ode], ['x', 'u'], ['ode'])\n",
    "\n",
    "T = 10\n",
    "N = 100\n",
    "sim_time = 20\n",
    "step_horizon = T/N\n",
    "\n",
    "# this integration options will integrate for 0.1 seconds\n",
    "intg_options = {\"tf\": T/N, 'simplify': True, 'number_of_finite_elements': 4}\n",
    "\n",
    "#check if f is working by giving f(x, u) and t = 0\n",
    "# print(f(ca.vertcat(0.2, 0.3), 0.4))\n",
    "dae = {'x': x, 'ode': ode, 'p': u}\n",
    "# here p is parameters or stuffs that don't change during integration\n",
    "#this intg object is a discretized version of the ode\n",
    "intg = ca.integrator('intg', 'rk', dae, intg_options)\n",
    "\n",
    "res = intg(x0=x,p=u)\n",
    "x_next = res['xf']\n",
    "\n",
    "n_states = x.numel()\n",
    "n_controls = u.numel()"
   ]
  },
  {
   "cell_type": "code",
   "execution_count": 3,
   "metadata": {},
   "outputs": [],
   "source": [
    "# given (x,u) compute x_next using F API\n",
    "F = ca.Function('F', [x, u], [x_next], ['x', 'u'], ['x_next'])\n",
    "P = ca.SX.sym('P', n_states + n_states)\n",
    "X = ca.SX.sym('X', n_states, (N+1))\n",
    "U = ca.SX.sym('U', n_controls, N)"
   ]
  },
  {
   "cell_type": "code",
   "execution_count": 4,
   "metadata": {},
   "outputs": [
    {
     "data": {
      "text/plain": [
       "Function(ff:(U[1x100],P[4])->(X[2x101]) SXFunction)"
      ]
     },
     "execution_count": 4,
     "metadata": {},
     "output_type": "execute_result"
    }
   ],
   "source": [
    "X[:,0] = P[:n_states]\n",
    "for k in range(N):\n",
    "    st = X[:,k]\n",
    "    con = U[:,k]\n",
    "    f_value = F(st, con)\n",
    "    st_next = f_value\n",
    "    X[:,k+1] = st_next\n",
    "\n",
    "#symbolic expression for optimal trajectory given the current(initialization) state and the control input\n",
    "ff = ca.Function('ff', [U, P], [X], ['U', 'P'], ['X'])\n",
    "\n",
    "ff"
   ]
  },
  {
   "cell_type": "code",
   "execution_count": 5,
   "metadata": {},
   "outputs": [],
   "source": [
    "Q = np.diag([1, 1])\n",
    "R = np.diag([0.1])\n",
    "\n",
    "#compute the objective symbolically\n",
    "obj = 0\n",
    "for k in range(N):\n",
    "    st = X[:,k]\n",
    "    con = U[:,k]\n",
    "    obj = obj + ca.mtimes([(st-P[n_states:]).T, Q, (st-P[n_states:])]) + ca.mtimes([con.T, R, con])\n",
    "    "
   ]
  },
  {
   "cell_type": "code",
   "execution_count": 6,
   "metadata": {},
   "outputs": [],
   "source": [
    "opt_variables = U.reshape((n_controls*N,1))"
   ]
  },
  {
   "cell_type": "code",
   "execution_count": 7,
   "metadata": {},
   "outputs": [],
   "source": [
    "def shift_timestep(step_horizon, t0, state_init, u, f):\n",
    "    f_value = f(state_init, u[:, 0])\n",
    "    next_state = ca.DM.full(state_init + (step_horizon * f_value))\n",
    "    #print(next_state.shape)\n",
    "    next_state = F(state_init, u[:, 0])\n",
    "    #print(next_state.shape)\n",
    "    t0 = t0 + step_horizon\n",
    "    u0 = ca.horzcat(\n",
    "        u[:, 1:],\n",
    "        ca.reshape(u[:, -1], -1, 1)\n",
    "    )\n",
    "\n",
    "    return t0, next_state, u0\n",
    "\n",
    "\n",
    "def DM2Arr(dm):\n",
    "    return np.array(dm.full())"
   ]
  },
  {
   "cell_type": "code",
   "execution_count": 8,
   "metadata": {},
   "outputs": [
    {
     "name": "stdout",
     "output_type": "stream",
     "text": [
      "(1, 100)\n",
      "(1, 200)\n"
     ]
    }
   ],
   "source": [
    "nlp_prob = {'f': obj, 'x': opt_variables, 'p': P}\n",
    "opts = {'ipopt': {'max_iter': 2000, 'print_level': 0, 'acceptable_tol': 1e-8, 'acceptable_obj_change_tol': 1e-6}, 'print_time': False}\n",
    "\n",
    "t0 = 0\n",
    "state_init = ca.DM([0, 1])        # initial state\n",
    "state_target = ca.DM([0,0])  # target state\n",
    "\n",
    "xx = ca.DM.zeros((n_states, int(sim_time/step_horizon)+1))\n",
    "xx[:,0] = state_init\n",
    "t = ca.DM(t0)\n",
    "\n",
    "u0 = ca.DM.zeros((n_controls, N))  # initial control\n",
    "xx1 = np.zeros((n_states, N+1, int(sim_time/step_horizon)))\n",
    "u_cl = ca.DM.zeros((n_controls, int(sim_time/step_horizon)))  # closed-loop control\n",
    "\n",
    "print(u0.shape)\n",
    "print(u_cl.shape)\n",
    "mpc_iter = 0\n",
    "solver = ca.nlpsol('solver', 'ipopt', nlp_prob, opts)\n",
    "args={}"
   ]
  },
  {
   "cell_type": "code",
   "execution_count": 9,
   "metadata": {},
   "outputs": [
    {
     "name": "stdout",
     "output_type": "stream",
     "text": [
      "\n",
      "******************************************************************************\n",
      "This program contains Ipopt, a library for large-scale nonlinear optimization.\n",
      " Ipopt is released as open source code under the Eclipse Public License (EPL).\n",
      "         For more information visit https://github.com/coin-or/Ipopt\n",
      "******************************************************************************\n",
      "\n",
      "mpc iteration 1\n",
      "mpc iteration 2\n",
      "mpc iteration 3\n",
      "mpc iteration 4\n",
      "mpc iteration 5\n",
      "mpc iteration 6\n",
      "mpc iteration 7\n",
      "mpc iteration 8\n",
      "mpc iteration 9\n",
      "mpc iteration 10\n",
      "mpc iteration 11\n",
      "mpc iteration 12\n",
      "mpc iteration 13\n",
      "mpc iteration 14\n",
      "mpc iteration 15\n",
      "mpc iteration 16\n",
      "mpc iteration 17\n",
      "mpc iteration 18\n",
      "mpc iteration 19\n",
      "mpc iteration 20\n",
      "mpc iteration 21\n",
      "mpc iteration 22\n",
      "mpc iteration 23\n",
      "mpc iteration 24\n",
      "mpc iteration 25\n",
      "mpc iteration 26\n",
      "mpc iteration 27\n",
      "mpc iteration 28\n",
      "mpc iteration 29\n",
      "mpc iteration 30\n",
      "mpc iteration 31\n",
      "mpc iteration 32\n",
      "mpc iteration 33\n",
      "mpc iteration 34\n",
      "mpc iteration 35\n",
      "mpc iteration 36\n",
      "mpc iteration 37\n",
      "mpc iteration 38\n",
      "mpc iteration 39\n",
      "mpc iteration 40\n",
      "mpc iteration 41\n",
      "mpc iteration 42\n",
      "mpc iteration 43\n",
      "mpc iteration 44\n",
      "mpc iteration 45\n",
      "mpc iteration 46\n",
      "mpc iteration 47\n",
      "mpc iteration 48\n",
      "mpc iteration 49\n",
      "mpc iteration 50\n",
      "mpc iteration 51\n",
      "mpc iteration 52\n",
      "mpc iteration 53\n",
      "mpc iteration 54\n",
      "mpc iteration 55\n",
      "mpc iteration 56\n",
      "mpc iteration 57\n",
      "mpc iteration 58\n",
      "mpc iteration 59\n",
      "mpc iteration 60\n",
      "mpc iteration 61\n",
      "mpc iteration 62\n",
      "mpc iteration 63\n",
      "mpc iteration 64\n",
      "mpc iteration 65\n",
      "mpc iteration 66\n",
      "mpc iteration 67\n",
      "mpc iteration 68\n",
      "mpc iteration 69\n",
      "mpc iteration 70\n",
      "mpc iteration 71\n",
      "mpc iteration 72\n",
      "mpc iteration 73\n",
      "mpc iteration 74\n",
      "mpc iteration 75\n",
      "mpc iteration 76\n",
      "mpc iteration 77\n",
      "mpc iteration 78\n",
      "mpc iteration 79\n",
      "mpc iteration 80\n",
      "mpc iteration 81\n",
      "mpc iteration 82\n",
      "mpc iteration 83\n",
      "mpc iteration 84\n",
      "mpc iteration 85\n",
      "mpc iteration 86\n",
      "mpc iteration 87\n",
      "mpc iteration 88\n",
      "mpc iteration 89\n",
      "mpc iteration 90\n",
      "mpc iteration 91\n",
      "mpc iteration 92\n",
      "mpc iteration 93\n",
      "mpc iteration 94\n",
      "mpc iteration 95\n",
      "mpc iteration 96\n",
      "\n",
      "\n",
      "\n",
      "Total time:  1.9141743183135986\n",
      "avg iteration time:  19.63575353327486 ms\n",
      "final error:  9.39475e-06\n"
     ]
    }
   ],
   "source": [
    "main_loop = time()  # return time in sec\n",
    "times = np.array([[0]])\n",
    "while (ca.norm_2(state_init - state_target) > 1e-5) and (mpc_iter * step_horizon < sim_time): # 0.1*200\n",
    "    t1 = time()\n",
    "    args['p'] = ca.vertcat(\n",
    "        state_init,    # current state\n",
    "        state_target   # target state\n",
    "    )\n",
    "    # optimization variable current state\n",
    "    args['x0'] = ca.reshape(u0.T, n_controls*(N), 1)\n",
    "    sol = solver(x0=args['x0'], p=args['p'])\n",
    "\n",
    "    u = ca.reshape(sol['x'].T, n_controls, N)\n",
    "    #ff_value = ff(u.T, args['p']) #to get the optimal trajectory from the current state\n",
    "    #print(DM2Arr(ff_value).T.shape)\n",
    "    #xx1[:,:N+1,mpc_iter] = DM2Arr(ff_value)\n",
    "\n",
    "    # print(u_cl.shape)\n",
    "    # print(u.shape)\n",
    "    u_cl = ca.horzcat(u_cl[:,1:], u[:,0])\n",
    "    #append the last time step\n",
    "    t = np.vstack((t,t0))\n",
    "\n",
    "    t0, state_init, u0 = shift_timestep(T, t0, state_init, u, f)\n",
    "\n",
    "    xx[:,mpc_iter] = state_init.T\n",
    "\n",
    "    mpc_iter = mpc_iter + 1\n",
    "    t2 = time()\n",
    "    print(\"mpc iteration\", mpc_iter)\n",
    "    # print(t2-t1)\n",
    "    times = np.vstack((times,t2-t1))\n",
    "\n",
    "main_loop_time = time()\n",
    "ss_error = ca.norm_2(state_init - state_target)\n",
    "print('\\n\\n')\n",
    "print('Total time: ', main_loop_time - main_loop)\n",
    "print('avg iteration time: ', np.array(times).mean() * 1000, 'ms')\n",
    "print('final error: ', ss_error)"
   ]
  },
  {
   "cell_type": "code",
   "execution_count": 10,
   "metadata": {},
   "outputs": [
    {
     "name": "stdout",
     "output_type": "stream",
     "text": [
      "(200, 1)\n"
     ]
    },
    {
     "data": {
      "image/png": "[encoded data removed]",
      "text/plain": [
       "<Figure size 1000x600 with 3 Axes>"
      ]
     },
     "metadata": {},
     "output_type": "display_data"
    }
   ],
   "source": [
    "import matplotlib.pyplot as plt\n",
    "\n",
    "# Plot state trajectories\n",
    "plt.figure(figsize=(10, 6))\n",
    "\n",
    "plt.subplot(2, 2, 1)\n",
    "plt.plot(xx.T[:mpc_iter, :])\n",
    "plt.title('State Trajectories')\n",
    "plt.xlabel('Time Steps')\n",
    "plt.ylabel('States')\n",
    "plt.grid(True)\n",
    "plt.legend(['theta', 'theta_dot'])  # Added Legend\n",
    "\n",
    "# Plot control inputs\n",
    "plt.subplot(2, 2, 2)\n",
    "print(u_cl.T.shape)\n",
    "u_cl_np = np.array(u_cl)  # Convert to numpy array if not already\n",
    "plt.plot(u_cl_np.T[-mpc_iter:, :])\n",
    "plt.title('Control Inputs')\n",
    "plt.xlabel('Time Steps')\n",
    "plt.ylabel('Controls')\n",
    "plt.grid(True)\n",
    "plt.legend(['Torque'])  # Added Legend, assuming there are two controls, modify as needed\n",
    "\n",
    "# Plot computation times\n",
    "plt.subplot(2, 2, 3)\n",
    "times_np = np.array(times[1:])  # Convert to numpy array and skip the first element (initialization)\n",
    "plt.plot(times_np * 1000)  # Convert to milliseconds\n",
    "plt.title('Computation Times')\n",
    "plt.xlabel('Iteration')\n",
    "plt.ylabel('Time (ms)')\n",
    "plt.grid(True)\n",
    "# If there is more than one line in the computation times plot, you should also add a corresponding legend here\n",
    "\n",
    "# Display the plots\n",
    "plt.tight_layout()\n",
    "plt.show()\n"
   ]
  }
 ],
 "metadata": {
  "kernelspec": {
   "display_name": "optcon",
   "language": "python",
   "name": "python3"
  },
  "language_info": {
   "codemirror_mode": {
    "name": "ipython",
    "version": 3
   },
   "file_extension": ".py",
   "mimetype": "text/x-python",
   "name": "python",
   "nbconvert_exporter": "python",
   "pygments_lexer": "ipython3",
   "version": "3.11.4"
  },
  "orig_nbformat": 4
 },
 "nbformat": 4,
 "nbformat_minor": 2
}
